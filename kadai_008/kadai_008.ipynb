{
  "nbformat": 4,
  "nbformat_minor": 0,
  "metadata": {
    "colab": {
      "provenance": []
    },
    "kernelspec": {
      "name": "python3",
      "display_name": "Python 3"
    },
    "language_info": {
      "name": "python"
    }
  },
  "cells": [
    {
      "cell_type": "code",
      "execution_count": 35,
      "metadata": {
        "colab": {
          "base_uri": "https://localhost:8080/"
        },
        "id": "L_v_XoYopEq6",
        "outputId": "33349278-2f7e-4b6a-b09c-6da24897c393"
      },
      "outputs": [
        {
          "output_type": "stream",
          "name": "stdout",
          "text": [
            "19\n",
            "19\n"
          ]
        }
      ],
      "source": [
        "import random\n",
        "var = random.randint(1,100)\n",
        "if var % 3 == 0:\n",
        "  if var % 5 == 0:\n",
        "    print('FizzBuzz')\n",
        "  else:\n",
        "    print('Fizz')\n",
        "elif var % 5 == 0:\n",
        "  print('Buzaz')\n",
        "else:\n",
        "  print(var)"
      ]
    }
  ]
}
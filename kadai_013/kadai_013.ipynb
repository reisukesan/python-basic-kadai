{
  "nbformat": 4,
  "nbformat_minor": 0,
  "metadata": {
    "colab": {
      "provenance": []
    },
    "kernelspec": {
      "name": "python3",
      "display_name": "Python 3"
    },
    "language_info": {
      "name": "python"
    }
  },
  "cells": [
    {
      "cell_type": "code",
      "execution_count": 1,
      "metadata": {
        "colab": {
          "base_uri": "https://localhost:8080/"
        },
        "id": "SrEQb50bRMdX",
        "outputId": "4c30f6e0-a7cb-423a-a9f1-ee5f81b28504"
      },
      "outputs": [
        {
          "output_type": "stream",
          "name": "stdout",
          "text": [
            "110.00000000000001\n"
          ]
        }
      ],
      "source": [
        "def calc_taxed_price(price : int, rate : float) -> float:\n",
        "  total = price * (1 + rate)\n",
        "  return total\n",
        "print(calc_taxed_price(100, 0.1))"
      ]
    }
  ]
}
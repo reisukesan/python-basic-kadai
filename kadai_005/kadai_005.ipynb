{
  "nbformat": 4,
  "nbformat_minor": 0,
  "metadata": {
    "colab": {
      "provenance": []
    },
    "kernelspec": {
      "name": "python3",
      "display_name": "Python 3"
    },
    "language_info": {
      "name": "python"
    }
  },
  "cells": [
    {
      "cell_type": "code",
      "execution_count": 1,
      "metadata": {
        "colab": {
          "base_uri": "https://localhost:8080/"
        },
        "id": "vhb4mqxFLn2c",
        "outputId": "02f4334b-c8ef-4fc6-a1d8-74585609806b"
      },
      "outputs": [
        {
          "output_type": "stream",
          "name": "stdout",
          "text": [
            "上辺:10cm\n",
            "下辺:20cm\n",
            "高さ:5cm\n",
            "台形の面積:75.0cm2\n"
          ]
        }
      ],
      "source": [
        "top_side = 10\n",
        "bottom_side = 20\n",
        "height = 5\n",
        "area = (top_side + bottom_side)*height/2\n",
        "print(f'上辺:{top_side}cm')\n",
        "print(f'下辺:{bottom_side}cm')\n",
        "print(f'高さ:{height}cm')\n",
        "print(f'台形の面積:{area}cm2')"
      ]
    }
  ]
}
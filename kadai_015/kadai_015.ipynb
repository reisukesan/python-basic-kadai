{
  "nbformat": 4,
  "nbformat_minor": 0,
  "metadata": {
    "colab": {
      "provenance": []
    },
    "kernelspec": {
      "name": "python3",
      "display_name": "Python 3"
    },
    "language_info": {
      "name": "python"
    }
  },
  "cells": [
    {
      "cell_type": "code",
      "execution_count": 2,
      "metadata": {
        "colab": {
          "base_uri": "https://localhost:8080/"
        },
        "id": "MxtRcHRqfi_u",
        "outputId": "9bb26079-e8be-4e6d-aaa9-6d5244c4d73e"
      },
      "outputs": [
        {
          "output_type": "stream",
          "name": "stdout",
          "text": [
            "name:hanako age:20\n"
          ]
        }
      ],
      "source": [
        "class Human:\n",
        "    def __init__(self):\n",
        "        self.name = \"\"\n",
        "        self.age = 0\n",
        "    def printinfo(self):\n",
        "        print(f'name:{self.name} age:{self.age}')\n",
        "hanako = Human()\n",
        "hanako.name = 'hanako'\n",
        "hanako.age = 20\n",
        "hanako.printinfo()"
      ]
    }
  ]
}
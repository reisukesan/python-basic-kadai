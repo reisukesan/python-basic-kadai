{
  "nbformat": 4,
  "nbformat_minor": 0,
  "metadata": {
    "colab": {
      "provenance": []
    },
    "kernelspec": {
      "name": "python3",
      "display_name": "Python 3"
    },
    "language_info": {
      "name": "python"
    }
  },
  "cells": [
    {
      "cell_type": "code",
      "execution_count": 4,
      "metadata": {
        "colab": {
          "base_uri": "https://localhost:8080/"
        },
        "id": "csggSZTLwrto",
        "outputId": "12fc6250-cc02-400a-de05-a90d89be0cee"
      },
      "outputs": [
        {
          "output_type": "stream",
          "name": "stdout",
          "text": [
            "ichiro(25) is adult\n",
            "jiro(23) is adult\n",
            "saburo(20) is adult\n",
            "shiro(18) is not adult\n",
            "goro(15) is not adult\n"
          ]
        }
      ],
      "source": [
        "class Human:\n",
        "    def __init__(self, name, age):\n",
        "        self.name = name\n",
        "        self.age = age\n",
        "    def check_adult(self):\n",
        "        if self.age >= 20:\n",
        "            print(f'{self.name}({self.age}) is adult')\n",
        "        else:\n",
        "            print(f'{self.name}({self.age}) is not adult')\n",
        "\n",
        "ichiro = Human('ichiro', 25)\n",
        "jiro = Human('jiro', 23)\n",
        "saburo = Human('saburo', 20)\n",
        "shiro = Human('shiro', 18)\n",
        "goro = Human('goro', 15)\n",
        "\n",
        "brothers = [ichiro, jiro, saburo, shiro, goro]\n",
        "\n",
        "for brother in brothers:\n",
        "    brother.check_adult()"
      ]
    }
  ]
}